{
 "cells": [
  {
   "cell_type": "markdown",
   "metadata": {},
   "source": [
    "## Análise de Sentimento\n",
    "#### Lembre-se de fornecer suas credenciais do twitter (na célula 2) antes de executar o código"
   ]
  },
  {
   "cell_type": "code",
   "execution_count": 61,
   "metadata": {},
   "outputs": [],
   "source": [
    "'''\n",
    "    Creditos: A maior parte desse codigo foi baseada no codigo escrito por vickqian \n",
    "    (https://gist.github.com/vickyqian/f70e9ab3910c7c290d9d715491cde44c).\n",
    "    Apenas separei em funcoes e modifiquei alguns trechos para fazer analise de sentimento\n",
    "    utilizando o modulo SentimentIntensityAnalyzer\n",
    "'''\n",
    "import tweepy\n",
    "from vaderSentiment.vaderSentiment import SentimentIntensityAnalyzer\n",
    "from googletrans import Translator"
   ]
  },
  {
   "cell_type": "code",
   "execution_count": 62,
   "metadata": {},
   "outputs": [
    {
     "name": "stdout",
     "output_type": "stream",
     "text": [
      "Date:  2020-10-12 19:48:37\n",
      "\n",
      "RT @pickamachine: https://t.co/27TTU45C5t\n",
      "It is necessary to know the way to replace a chain of #chainsaw properly. So that you can save to…\n",
      "\n",
      "Feeling Report:  {'neg': 0.0, 'neu': 0.873, 'pos': 0.127, 'compound': 0.4939}\n",
      "---------------------------------------------------\n",
      "Date:  2020-10-12 19:48:23\n",
      "\n",
      "RT @KindLilLoveBot: You💕 are wonderful; remember to please 🙏🏽: eat more vegetables🌿   #happy\n",
      "\n",
      "Feeling Report:  {'neg': 0.0, 'neu': 0.529, 'pos': 0.471, 'compound': 0.9356}\n",
      "---------------------------------------------------\n",
      "Date:  2020-10-12 19:48:05\n",
      "\n",
      "RT @DomainFQ: .\n",
      ".\n",
      " Domain Listed For Sale\n",
      "\n",
      "https://t.co/3Ee7xgYawl\n",
      "\n",
      "Buy Now with Low Bin Price\n",
      "\n",
      "#deserve #DeserveBest #YouDeserveBest #love…\n",
      "\n",
      "Feeling Report:  {'neg': 0.104, 'neu': 0.896, 'pos': 0.0, 'compound': -0.2732}\n",
      "---------------------------------------------------\n",
      "Date:  2020-10-12 19:47:41\n",
      "\n",
      "Nobody can mak you #Happy until you are happy with yourself\n",
      "\n",
      "Feeling Report:  {'neg': 0.0, 'neu': 0.549, 'pos': 0.451, 'compound': 0.8126}\n",
      "---------------------------------------------------\n",
      "Date:  2020-10-12 19:47:24\n",
      "\n",
      "RT @2Gthang: Thank you Cincinnati for all the love tonight at the show. SOLD OUT! #LivingYourBestLifeTour #LilDuval #Tour #Working #GetBags…\n",
      "\n",
      "Feeling Report:  {'neg': 0.0, 'neu': 0.72, 'pos': 0.28, 'compound': 0.7901}\n",
      "---------------------------------------------------\n"
     ]
    }
   ],
   "source": [
    "#Credenciais de acesso\n",
    "consumer_key = ''\n",
    "consumer_secret = ''\n",
    "access_token = ''\n",
    "access_token_secret = ''\n",
    "\n",
    "def authenticate(consumer_key, consumer_secret, access_token, acces_token_secret):\n",
    "    \n",
    "    #Realiza autenticacao com as credenciais passadas como parametro\n",
    "    auth = tweepy.OAuthHandler(consumer_key, consumer_secret)\n",
    "    auth.set_access_token(access_token, access_token_secret)\n",
    "    \n",
    "    #Retorna o objeto api\n",
    "    return tweepy.API(auth,wait_on_rate_limit=True)\n",
    "\n",
    "\n",
    "API = authenticate(consumer_key, consumer_secret, access_token, access_token_secret)\n",
    "\n",
    "def analyseTweet(hashtag, language=\"en\",translate=False, since=\"2020-01-01\", limit=5):\n",
    "    '''\n",
    "        Imprime a analise do sentimento (positivo, negativo e neutro) de uma hashtag. O print\n",
    "        é feito da na seguinte ordem: data texto feeling-report.\n",
    "        \n",
    "        hashtag: hashtag a ser buscada\n",
    "        language: idioma da query procurada\n",
    "        translate: Booleano indicando se a hashtag deve ser exibida em ingles, caso nao esteja nesse idioma\n",
    "        since: data inicial a partir da qual a busca é realizada\n",
    "        limit: Limitante para a quantidade de frases buscadas\n",
    "    '''\n",
    "    for tweet in tweepy.Cursor(API.search,q=hashtag, lang=language,since=since).items(limit):\n",
    "        \n",
    "        #Traduz texto para ingles\n",
    "        text = tweet.text\n",
    "        text_to_print = tweet.text\n",
    "        \n",
    "        if(language != \"en\"):\n",
    "            text = translator.translate(tweet.text).text\n",
    "            \n",
    "            if translate:\n",
    "                text_to_print = translator.translate(tweet.text).text\n",
    "        \n",
    "        print(\"Date: \", tweet.created_at)\n",
    "        print(f'\\n{text_to_print}\\n')\n",
    "        print(\"Feeling Report: \", analyser.polarity_scores(text))\n",
    "        print(\"---------------------------------------------------\")\n",
    "    \n",
    "#analyseTweet(\"#covid19\", language=\"pt-br\")\n",
    "#analyseTweet(\"#sad\", limit=3)\n",
    "analyseTweet(\"#happy\")"
   ]
  },
  {
   "cell_type": "code",
   "execution_count": null,
   "metadata": {},
   "outputs": [],
   "source": []
  }
 ],
 "metadata": {
  "kernelspec": {
   "display_name": "Python 3",
   "language": "python",
   "name": "python3"
  },
  "language_info": {
   "codemirror_mode": {
    "name": "ipython",
    "version": 3
   },
   "file_extension": ".py",
   "mimetype": "text/x-python",
   "name": "python",
   "nbconvert_exporter": "python",
   "pygments_lexer": "ipython3",
   "version": "3.8.3"
  }
 },
 "nbformat": 4,
 "nbformat_minor": 4
}
